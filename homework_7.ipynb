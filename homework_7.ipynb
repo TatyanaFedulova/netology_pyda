{
 "cells": [
  {
   "cell_type": "markdown",
   "metadata": {},
   "source": [
    "# Домашнее задание к лекции \"Понятие класса\"\n",
    "\n",
    "## Задание 1\n",
    "Напишите функцию, которая возвращает название валюты (поле ‘Name’) с максимальным значением курса с помощью сервиса https://www.cbr-xml-daily.ru/daily_json.js"
   ]
  },
  {
   "cell_type": "code",
   "execution_count": 139,
   "metadata": {},
   "outputs": [
    {
     "name": "stdout",
     "output_type": "stream",
     "text": [
      "МАКСИМАЛЬНЫЙ КУРС:  Китайских юаней 98.2898\n"
     ]
    }
   ],
   "source": [
    "import requests\n",
    "\n",
    "def max_valute_value():\n",
    "    daily_json = requests.get('https://www.cbr-xml-daily.ru/daily_json.js')\n",
    "    a = daily_json.json()['Valute']\n",
    "    max_a = 0\n",
    "    for a_point in a:\n",
    "        if max_a == 0:\n",
    "            max_a = a[a_point]['Value']\n",
    "            max_name = a[a_point]['Name']\n",
    "        if a[a_point]['Value'] > max_a:\n",
    "            max_a = a[a_point]['Value']\n",
    "            max_name = a[a_point]['Name']\n",
    "    return max_a\n",
    "\n",
    "max_valute_value()\n",
    "print('МАКСИМАЛЬНЫЙ КУРС: ', max_name, max_a)"
   ]
  },
  {
   "cell_type": "markdown",
   "metadata": {},
   "source": [
    "## Задание 2\n",
    "Добавьте в класс Rate параметр diff (со значениями True или False), который в случае значения True в методах eur и usd будет возвращать не курс валюты, а изменение по сравнению в прошлым значением. Считайте, self.diff будет принимать значение True только при возврате значения курса. При отображении всей информации о валюте он не используется."
   ]
  },
  {
   "cell_type": "code",
   "execution_count": 140,
   "metadata": {},
   "outputs": [],
   "source": [
    "class Rate:\n",
    "    def __init__(self, format_='value'):\n",
    "        self.format = format_\n",
    "    \n",
    "    def exchange_rates(self):\n",
    "        #Возвращает ответ сервиса с информацией о валютах в виде:\n",
    "        self.r = requests.get('https://www.cbr-xml-daily.ru/daily_json.js')\n",
    "        return self.r.json()['Valute']\n",
    "    \n",
    "    def make_format(self, currency, diff=False):\n",
    "        #Возвращает информацию о валюте currency в двух вариантах:\n",
    "        \n",
    "        response = self.exchange_rates()\n",
    "        \n",
    "        if currency in response:\n",
    "            if self.format == 'full':\n",
    "                return response[currency]\n",
    "            if self.format == 'value':\n",
    "                if diff == True:\n",
    "                    return response[currency]['Value'] - response[currency]['Previous']\n",
    "                else:\n",
    "                    return response[currency]['Value']\n",
    "        return 'Error'\n",
    "    \n",
    "    def eur(self):\n",
    "        #Возвращает курс евро на сегодня в формате self.format\n",
    "        return self.make_format('EUR')\n",
    "    \n",
    "    def usd(self):\n",
    "        #Возвращает курс доллара на сегодня в формате self.format\n",
    "        return self.make_format('USD')\n",
    "    \n",
    "    def brl(self):\n",
    "        #Возвращает курс бразильского реала на сегодня в формате self.format\n",
    "        return self.make_format('BRL')"
   ]
  },
  {
   "cell_type": "code",
   "execution_count": 141,
   "metadata": {},
   "outputs": [
    {
     "name": "stdout",
     "output_type": "stream",
     "text": [
      "По умолчанию выводится курс, что соответствует параметру diff = False: \n",
      " 69.5725\n",
      "Аналогично при прямом указании diff = False: \n",
      " 69.5725\n",
      "При указании параметра diff = True выводится изменение курса: \n",
      " -0.04549999999998988\n"
     ]
    }
   ],
   "source": [
    "r = Rate()\n",
    "print('По умолчанию выводится курс, что соответствует параметру diff = False: \\n', r.make_format(currency='USD'))\n",
    "print('Аналогично при прямом указании diff = False: \\n', r.make_format(currency='USD', diff=False))\n",
    "print('При указании параметра diff = True выводится изменение курса: \\n', r.make_format(currency='USD', diff=True))"
   ]
  },
  {
   "cell_type": "markdown",
   "metadata": {},
   "source": [
    "## Задание 3\n",
    "Напишите класс Designer, который учитывает количество международных премий. Подсказки в коде занятия в разделе “Домашнее задание задача 3”."
   ]
  },
  {
   "cell_type": "code",
   "execution_count": 142,
   "metadata": {},
   "outputs": [],
   "source": [
    "class Employee:\n",
    "    def __init__(self, name, seniority):\n",
    "        self.name = name\n",
    "        self.seniority = seniority\n",
    "        \n",
    "        self.grade = 1\n",
    "    \n",
    "    def grade_up(self):\n",
    "        #Повышает уровень сотрудника\n",
    "        self.grade += 1\n",
    "    \n",
    "    def publish_grade(self):\n",
    "        #Публикация результатов аккредитации сотрудников\n",
    "        print(self.name, self.grade)\n",
    "    \n",
    "    def check_if_it_is_time_for_upgrade(self):\n",
    "        pass"
   ]
  },
  {
   "cell_type": "code",
   "execution_count": 143,
   "metadata": {},
   "outputs": [],
   "source": [
    "class Designer(Employee):\n",
    "    def __init__(self, name, seniority, awards):\n",
    "        Employee.__init__(self, name, seniority)\n",
    "        self.awards = awards\n",
    "        \n",
    "    def check_if_it_is_time_for_upgrade(self):\n",
    "        # для каждой аккредитации увеличиваем счетчик на 1\n",
    "        # плюс добавляем удвоенное количество премий\n",
    "        self.seniority += 1\n",
    "        self.level = self.awards*2 + self.seniority\n",
    "        \n",
    "        # условие повышения сотрудника из презентации\n",
    "        if self.level % 7 == 0:\n",
    "            self.grade_up()\n",
    "        \n",
    "        # публикация результатов\n",
    "        return self.publish_grade()"
   ]
  },
  {
   "cell_type": "code",
   "execution_count": 144,
   "metadata": {},
   "outputs": [
    {
     "name": "stdout",
     "output_type": "stream",
     "text": [
      "Елена 1\n",
      "Елена 1\n",
      "Елена 2\n",
      "Елена 2\n",
      "Елена 2\n",
      "Елена 2\n",
      "Елена 2\n",
      "Елена 2\n",
      "Елена 2\n",
      "Елена 3\n",
      "Елена 3\n",
      "Елена 3\n",
      "Елена 3\n",
      "Елена 3\n",
      "Елена 3\n",
      "Елена 3\n",
      "Елена 4\n",
      "Елена 4\n",
      "Елена 4\n",
      "Елена 4\n"
     ]
    }
   ],
   "source": [
    "elena = Designer('Елена', seniority=0, awards=2)\n",
    "for i in range(20):\n",
    "    elena.check_if_it_is_time_for_upgrade()"
   ]
  }
 ],
 "metadata": {
  "kernelspec": {
   "display_name": "Python 3",
   "language": "python",
   "name": "python3"
  },
  "language_info": {
   "codemirror_mode": {
    "name": "ipython",
    "version": 3
   },
   "file_extension": ".py",
   "mimetype": "text/x-python",
   "name": "python",
   "nbconvert_exporter": "python",
   "pygments_lexer": "ipython3",
   "version": "3.7.4"
  }
 },
 "nbformat": 4,
 "nbformat_minor": 2
}
