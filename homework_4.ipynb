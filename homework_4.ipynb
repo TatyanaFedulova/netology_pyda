{
 "cells": [
  {
   "cell_type": "markdown",
   "metadata": {},
   "source": [
    "# Задание 1"
   ]
  },
  {
   "cell_type": "markdown",
   "metadata": {},
   "source": [
    "Дан список вида:"
   ]
  },
  {
   "cell_type": "code",
   "execution_count": 20,
   "metadata": {},
   "outputs": [],
   "source": [
    "data = [\n",
    "    [13, 25, 23, 34],\n",
    "    [45, 32, 44, 47],\n",
    "    [12, 33, 23, 95],\n",
    "    [13, 53, 34, 35]\n",
    "]"
   ]
  },
  {
   "cell_type": "markdown",
   "metadata": {},
   "source": [
    "Напишите функцию, которая возвращает сумму элементов на диагонали. Т. е. 13+32+23+35.  \n",
    "Список может быть любой длины, но всегда является \"квадратным\" (количество элементов во вложенных списках равно их количеству)."
   ]
  },
  {
   "cell_type": "code",
   "execution_count": 22,
   "metadata": {},
   "outputs": [
    {
     "data": {
      "text/plain": [
       "103"
      ]
     },
     "execution_count": 22,
     "metadata": {},
     "output_type": "execute_result"
    }
   ],
   "source": [
    "def sum_main(data):\n",
    "    data_len = len(data)\n",
    "    i = 0\n",
    "    summarize = 0\n",
    "    while i < data_len:\n",
    "        summarize += data[i][i]\n",
    "        i += 1\n",
    "    return summarize\n",
    "\n",
    "sum_main(data)"
   ]
  },
  {
   "cell_type": "markdown",
   "metadata": {},
   "source": [
    "# Задание 2"
   ]
  },
  {
   "cell_type": "markdown",
   "metadata": {},
   "source": [
    "Напишите функцию, возвращающую сумму первых n чисел Фибоначчи (для этого вам может понадобится ознакомиться с рекурсией)."
   ]
  },
  {
   "cell_type": "code",
   "execution_count": 100,
   "metadata": {},
   "outputs": [
    {
     "name": "stdout",
     "output_type": "stream",
     "text": [
      "Сумма N первых чисел Фибоначчи. N=10\n",
      "Сумма = 143\n"
     ]
    }
   ],
   "source": [
    "def sum_f(N):\n",
    "    list_f = [1, 1]\n",
    "    sum_f = 2\n",
    "    i = 2\n",
    "    while i < N:\n",
    "        list_f.insert(i, list_f[i-1] + list_f[i-2])\n",
    "        sum_f = sum_f + list_f[i] \n",
    "        i += 1\n",
    "#    print(list_f)\n",
    "    return(sum_f)\n",
    "N = int(input('Сумма N первых чисел Фибоначчи. N='))\n",
    "print('Сумма =', sum_f(N))"
   ]
  },
  {
   "cell_type": "markdown",
   "metadata": {},
   "source": [
    "## Задание 3\n"
   ]
  },
  {
   "cell_type": "markdown",
   "metadata": {},
   "source": [
    "Напишите функцию, преобразующую произвольный список вида ['2018-01-01', 'yandex', 'cpc', 100] (он может быть любой длины) в словарь {'2018-01-01': {'yandex': {'cpc': 100}}}"
   ]
  },
  {
   "cell_type": "code",
   "execution_count": 88,
   "metadata": {},
   "outputs": [
    {
     "data": {
      "text/plain": [
       "{'2018-01-01': {'yandex': {'cpc': 100}}}"
      ]
     },
     "execution_count": 88,
     "metadata": {},
     "output_type": "execute_result"
    }
   ],
   "source": [
    "my_list = ['2018-01-01', 'yandex', 'cpc', 100]\n",
    "\n",
    "def dict_from_list(my_list):\n",
    "    n = (len(my_list)+1)*-1\n",
    "    i = 1\n",
    "    x = my_list[-1]\n",
    "    for i in range(-2,n,-1):\n",
    "        x = {my_list[i] : x}\n",
    "    return(x)\n",
    "dict_from_list(my_list)"
   ]
  },
  {
   "cell_type": "markdown",
   "metadata": {},
   "source": [
    "## Задание 4"
   ]
  },
  {
   "cell_type": "markdown",
   "metadata": {},
   "source": [
    "Вы работаете секретарем и вам постоянно приходят различные документы. Вы должны быть очень внимательны, чтобы не потерять ни один документ. Каталог документов хранится в следующем виде:"
   ]
  },
  {
   "cell_type": "code",
   "execution_count": null,
   "metadata": {},
   "outputs": [],
   "source": [
    "documents = [\n",
    "    {'type': 'passport', 'number': '2207 876234', 'name': 'Василий Гупкин'},\n",
    "    {'type': 'invoice', 'number': '11-2', 'name': 'Геннадий Покемонов'},\n",
    "    {'type': 'insurance', 'number': '10006', 'name': 'Аристарх Павлов'}\n",
    "]"
   ]
  },
  {
   "cell_type": "markdown",
   "metadata": {},
   "source": [
    "Перечень полок, на которых находятся документы хранится в следующем виде:"
   ]
  },
  {
   "cell_type": "code",
   "execution_count": null,
   "metadata": {},
   "outputs": [],
   "source": [
    "directories = {\n",
    "    '1': ['2207 876234', '11-2', '5455 028765'],\n",
    "    '2': ['10006', '5400 028765', '5455 002299'],\n",
    "    '3': []\n",
    "}"
   ]
  },
  {
   "cell_type": "markdown",
   "metadata": {},
   "source": [
    "Необходимо реализовать пользовательские команды (внимание! это не название функций, которые должны быть выразительными, а команды, которые вводит пользователь, чтобы получить необходимый результат):\n",
    "  \n",
    "- p – people – команда, которая спросит номер документа и выведет имя человека, которому он принадлежит;  \n",
    "- s – shelf – команда, которая спросит номер документа и выведет номер полки, на которой он находится  \n",
    "Правильно обработайте ситуацию, когда пользователь будет вводить несуществующий документ.\n",
    "- l – list – команда, которая выведет список всех документов в формате   \n",
    "**passport \"2207 876234\" \"Василий Гупкин\"**  \n",
    "- as – add shelf – команда, которая спросит номер новой полки и добавит ее в перечень\n",
    "- d – delete – команда, которая спросит номер документа и удалит его из каталога и из перечня полок. Предусмотрите сценарий, когда пользователь вводит несуществующий документ;  \n",
    "- m – move – команда, которая спросит номер документа и целевую полку и переместит его с текущей полки на целевую. Корректно обработайте кейсы, когда пользователь пытается переместить несуществующий документ или переместить документ на несуществующую полку;  \n",
    "- a – add – команда, которая добавит новый документ в каталог и в перечень полок, спросив его номер, тип, имя владельца и номер полки, на котором он будет храниться."
   ]
  },
  {
   "cell_type": "code",
   "execution_count": 50,
   "metadata": {},
   "outputs": [
    {
     "name": "stdout",
     "output_type": "stream",
     "text": [
      "Введите номер документа: 10006\n"
     ]
    },
    {
     "data": {
      "text/plain": [
       "'Аристарх Павлов'"
      ]
     },
     "execution_count": 50,
     "metadata": {},
     "output_type": "execute_result"
    }
   ],
   "source": [
    "documents = [\n",
    "    {'type': 'passport', 'number': '2207 876234', 'name': 'Василий Гупкин'},\n",
    "    {'type': 'invoice', 'number': '11-2', 'name': 'Геннадий Покемонов'},\n",
    "    {'type': 'insurance', 'number': '10006', 'name': 'Аристарх Павлов'}\n",
    "]\n",
    "\n",
    "# - p – people – команда, которая спросит номер документа и выведет имя человека, которому он принадлежит;  \n",
    "\n",
    "number = input(\"Введите номер документа: \")\n",
    "def p(d_number):\n",
    "    x = 0\n",
    "    for record in documents:\n",
    "        if record['number'] == d_number:\n",
    "            name = record['name']\n",
    "            x = 1\n",
    "    if x == 0:\n",
    "        return('Не найден')\n",
    "    else:\n",
    "        return(name)\n",
    "p(number)"
   ]
  },
  {
   "cell_type": "code",
   "execution_count": 45,
   "metadata": {},
   "outputs": [
    {
     "name": "stdout",
     "output_type": "stream",
     "text": [
      "Введите номер документа: 11-2\n"
     ]
    },
    {
     "data": {
      "text/plain": [
       "'1'"
      ]
     },
     "execution_count": 45,
     "metadata": {},
     "output_type": "execute_result"
    }
   ],
   "source": [
    "directories = {\n",
    "    '1': ['2207 876234', '11-2', '5455 028765'],\n",
    "    '2': ['10006', '5400 028765', '5455 002299'],\n",
    "    '3': []\n",
    "}\n",
    "\n",
    "# s – shelf – команда, которая спросит номер документа и выведет номер полки, на которой он находится\n",
    "\n",
    "number = input(\"Введите номер документа: \")\n",
    "def sh(d_number):\n",
    "    x = 0\n",
    "    for key, value in directories.items():\n",
    "        for document in value:\n",
    "            if document == d_number:\n",
    "                shelf = key\n",
    "                x = 1\n",
    "    if x == 0:\n",
    "        return('Не найден')\n",
    "    else:\n",
    "        return(shelf)\n",
    "sh(number)"
   ]
  },
  {
   "cell_type": "code",
   "execution_count": 49,
   "metadata": {},
   "outputs": [
    {
     "name": "stdout",
     "output_type": "stream",
     "text": [
      "passport \"2207 876234\" \"Василий Гупкин\"\n",
      "invoice \"11-2\" \"Геннадий Покемонов\"\n",
      "insurance \"10006\" \"Аристарх Павлов\"\n"
     ]
    }
   ],
   "source": [
    "documents = [\n",
    "    {'type': 'passport', 'number': '2207 876234', 'name': 'Василий Гупкин'},\n",
    "    {'type': 'invoice', 'number': '11-2', 'name': 'Геннадий Покемонов'},\n",
    "    {'type': 'insurance', 'number': '10006', 'name': 'Аристарх Павлов'}\n",
    "]\n",
    "\n",
    "#l – list – команда, которая выведет список всех документов в формате passport \"2207 876234\" \"Василий Гупкин\"\n",
    "\n",
    "for record in documents:\n",
    "    print(record['type'], ' \"', record['number'], '\" ', '\"', record['name'], '\"', sep=\"\")"
   ]
  },
  {
   "cell_type": "code",
   "execution_count": 54,
   "metadata": {},
   "outputs": [
    {
     "name": "stdout",
     "output_type": "stream",
     "text": [
      "Введите номер добавляемой полки: 5\n",
      "Полка добавлена\n",
      "{'1': ['2207 876234', '11-2', '5455 028765'], '2': ['10006', '5400 028765', '5455 002299'], '3': [], '5': []}\n"
     ]
    }
   ],
   "source": [
    "directories = {\n",
    "    '1': ['2207 876234', '11-2', '5455 028765'],\n",
    "    '2': ['10006', '5400 028765', '5455 002299'],\n",
    "    '3': []\n",
    "}\n",
    "#as – add shelf – команда, которая спросит номер новой полки и добавит ее в перечень\n",
    "\n",
    "shelf = input(\"Введите номер добавляемой полки: \")\n",
    "def add_shelf(s_num):\n",
    "    if shelf in directories:\n",
    "        return(print('Полка уже существует'))\n",
    "    else:\n",
    "        directories[shelf] = []\n",
    "        return(print('Полка добавлена'))\n",
    "add_shelf(shelf)\n",
    "print(directories)"
   ]
  },
  {
   "cell_type": "code",
   "execution_count": 97,
   "metadata": {},
   "outputs": [
    {
     "name": "stdout",
     "output_type": "stream",
     "text": [
      "Введите номер документа: 10006\n",
      "2\n",
      "2\n",
      "{'1': ['2207 876234', '11-2', '5455 028765'], '2': ['5400 028765', '5455 002299'], '3': []}\n",
      "[{'type': 'passport', 'number': '2207 876234', 'name': 'Василий Гупкин'}, {'type': 'invoice', 'number': '11-2', 'name': 'Геннадий Покемонов'}]\n"
     ]
    }
   ],
   "source": [
    "directories = {\n",
    "    '1': ['2207 876234', '11-2', '5455 028765'],\n",
    "    '2': ['10006', '5400 028765', '5455 002299'],\n",
    "    '3': []\n",
    "}\n",
    "documents = [\n",
    "    {'type': 'passport', 'number': '2207 876234', 'name': 'Василий Гупкин'},\n",
    "    {'type': 'invoice', 'number': '11-2', 'name': 'Геннадий Покемонов'},\n",
    "    {'type': 'insurance', 'number': '10006', 'name': 'Аристарх Павлов'}\n",
    "]\n",
    "\n",
    "#d – delete – команда, которая спросит номер документа и удалит его из каталога и из перечня полок. \n",
    "# Предусмотрите сценарий, когда пользователь вводит несуществующий документ\n",
    "\n",
    "number = input(\"Введите номер документа: \")\n",
    "def del_doc(d_number):\n",
    "    x = 0\n",
    "    for record in documents:\n",
    "        if record['number'] == d_number:\n",
    "            i = documents.index(record)\n",
    "            del(documents[i])\n",
    "            x += 1\n",
    "    if x == 0:\n",
    "        return('Не найден')\n",
    "    else:\n",
    "        ii = sh(d_number)\n",
    "        # print(ii)\n",
    "        directories[ii].remove(d_number)\n",
    "        return(i)\n",
    "\n",
    "shelf_number = del_doc(number)\n",
    "# print(shelf_number)\n",
    "\n",
    "print(directories)\n",
    "print(documents)"
   ]
  },
  {
   "cell_type": "code",
   "execution_count": null,
   "metadata": {},
   "outputs": [],
   "source": [
    "# m – move – команда, которая спросит номер документа и целевую полку и переместит его с текущей полки на целевую.\n",
    "# Корректно обработайте кейсы, когда пользователь пытается переместить несуществующий документ \n",
    "# или переместить документ на несуществующую полку;  "
   ]
  },
  {
   "cell_type": "code",
   "execution_count": null,
   "metadata": {},
   "outputs": [],
   "source": [
    "# a – add – команда, которая добавит новый документ в каталог и в перечень полок, спросив его номер, тип,\n",
    "# имя владельца и номер полки, на котором он будет храниться."
   ]
  },
  {
   "cell_type": "markdown",
   "metadata": {},
   "source": [
    "# ВСПОМОГАТЕЛЬНАЯ ЯЧЕЙКА ДЛЯ ПРОВЕРОК"
   ]
  },
  {
   "cell_type": "code",
   "execution_count": 91,
   "metadata": {},
   "outputs": [
    {
     "name": "stdout",
     "output_type": "stream",
     "text": [
      "[{'type': 'passport', 'number': '2207 876234', 'name': 'Василий Гупкин'}, {'type': 'insurance', 'number': '10006', 'name': 'Аристарх Павлов'}]\n",
      "{'1': ['2207 876234', '11-2', '5455 028765'], '2': ['5400 028765', '5455 002299'], '3': []}\n"
     ]
    }
   ],
   "source": [
    "documents = [\n",
    "    {'type': 'passport', 'number': '2207 876234', 'name': 'Василий Гупкин'},\n",
    "    {'type': 'invoice', 'number': '11-2', 'name': 'Геннадий Покемонов'},\n",
    "    {'type': 'insurance', 'number': '10006', 'name': 'Аристарх Павлов'}\n",
    "]\n",
    "directories = {\n",
    "    '1': ['2207 876234', '11-2', '5455 028765'],\n",
    "    '2': ['10006', '5400 028765', '5455 002299'],\n",
    "    '3': []\n",
    "}\n",
    "ii = '2'\n",
    "del(documents[1])\n",
    "directories[ii].remove('10006')\n",
    "print(documents)\n",
    "print(directories)"
   ]
  }
 ],
 "metadata": {
  "kernelspec": {
   "display_name": "Python 3",
   "language": "python",
   "name": "python3"
  },
  "language_info": {
   "codemirror_mode": {
    "name": "ipython",
    "version": 3
   },
   "file_extension": ".py",
   "mimetype": "text/x-python",
   "name": "python",
   "nbconvert_exporter": "python",
   "pygments_lexer": "ipython3",
   "version": "3.7.4"
  }
 },
 "nbformat": 4,
 "nbformat_minor": 2
}
