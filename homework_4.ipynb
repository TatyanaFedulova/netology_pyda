{
 "cells": [
  {
   "cell_type": "markdown",
   "metadata": {},
   "source": [
    "# Задание 1"
   ]
  },
  {
   "cell_type": "markdown",
   "metadata": {},
   "source": [
    "Дан список вида:"
   ]
  },
  {
   "cell_type": "code",
   "execution_count": 20,
   "metadata": {},
   "outputs": [],
   "source": [
    "data = [\n",
    "    [13, 25, 23, 34],\n",
    "    [45, 32, 44, 47],\n",
    "    [12, 33, 23, 95],\n",
    "    [13, 53, 34, 35]\n",
    "]"
   ]
  },
  {
   "cell_type": "markdown",
   "metadata": {},
   "source": [
    "Напишите функцию, которая возвращает сумму элементов на диагонали. Т. е. 13+32+23+35.  \n",
    "Список может быть любой длины, но всегда является \"квадратным\" (количество элементов во вложенных списках равно их количеству)."
   ]
  },
  {
   "cell_type": "code",
   "execution_count": 22,
   "metadata": {},
   "outputs": [
    {
     "data": {
      "text/plain": [
       "103"
      ]
     },
     "execution_count": 22,
     "metadata": {},
     "output_type": "execute_result"
    }
   ],
   "source": [
    "def sum_main(data):\n",
    "    data_len = len(data)\n",
    "    i = 0\n",
    "    summarize = 0\n",
    "    while i < data_len:\n",
    "        summarize += data[i][i]\n",
    "        i += 1\n",
    "    return summarize\n",
    "\n",
    "sum_main(data)"
   ]
  },
  {
   "cell_type": "markdown",
   "metadata": {},
   "source": [
    "# Задание 2"
   ]
  },
  {
   "cell_type": "markdown",
   "metadata": {},
   "source": [
    "Напишите функцию, возвращающую сумму первых n чисел Фибоначчи (для этого вам может понадобится ознакомиться с рекурсией)."
   ]
  },
  {
   "cell_type": "code",
   "execution_count": 100,
   "metadata": {},
   "outputs": [
    {
     "name": "stdout",
     "output_type": "stream",
     "text": [
      "Сумма N первых чисел Фибоначчи. N=10\n",
      "Сумма = 143\n"
     ]
    }
   ],
   "source": [
    "def sum_f(N):\n",
    "    list_f = [1, 1]\n",
    "    sum_f = 2\n",
    "    i = 2\n",
    "    while i < N:\n",
    "        list_f.insert(i, list_f[i-1] + list_f[i-2])\n",
    "        sum_f = sum_f + list_f[i] \n",
    "        i += 1\n",
    "#    print(list_f)\n",
    "    return(sum_f)\n",
    "N = int(input('Сумма N первых чисел Фибоначчи. N='))\n",
    "print('Сумма =', sum_f(N))"
   ]
  },
  {
   "cell_type": "markdown",
   "metadata": {},
   "source": [
    "## Задание 3\n"
   ]
  },
  {
   "cell_type": "markdown",
   "metadata": {},
   "source": [
    "Напишите функцию, преобразующую произвольный список вида ['2018-01-01', 'yandex', 'cpc', 100] (он может быть любой длины) в словарь {'2018-01-01': {'yandex': {'cpc': 100}}}"
   ]
  },
  {
   "cell_type": "code",
   "execution_count": 88,
   "metadata": {},
   "outputs": [
    {
     "data": {
      "text/plain": [
       "{'2018-01-01': {'yandex': {'cpc': 100}}}"
      ]
     },
     "execution_count": 88,
     "metadata": {},
     "output_type": "execute_result"
    }
   ],
   "source": [
    "my_list = ['2018-01-01', 'yandex', 'cpc', 100]\n",
    "\n",
    "def dict_from_list(my_list):\n",
    "    n = (len(my_list)+1)*-1\n",
    "    i = 1\n",
    "    x = my_list[-1]\n",
    "    for i in range(-2,n,-1):\n",
    "        x = {my_list[i] : x}\n",
    "    return(x)\n",
    "dict_from_list(my_list)"
   ]
  },
  {
   "cell_type": "markdown",
   "metadata": {},
   "source": [
    "## Задание 4"
   ]
  },
  {
   "cell_type": "markdown",
   "metadata": {},
   "source": [
    "Вы работаете секретарем и вам постоянно приходят различные документы. Вы должны быть очень внимательны, чтобы не потерять ни один документ. Каталог документов хранится в следующем виде:"
   ]
  },
  {
   "cell_type": "code",
   "execution_count": 49,
   "metadata": {},
   "outputs": [],
   "source": [
    "documents = [\n",
    "    {'type': 'passport', 'number': '2207 876234', 'name': 'Василий Гупкин'},\n",
    "    {'type': 'invoice', 'number': '11-2', 'name': 'Геннадий Покемонов'},\n",
    "    {'type': 'insurance', 'number': '10006', 'name': 'Аристарх Павлов'}\n",
    "]"
   ]
  },
  {
   "cell_type": "markdown",
   "metadata": {},
   "source": [
    "Перечень полок, на которых находятся документы хранится в следующем виде:"
   ]
  },
  {
   "cell_type": "code",
   "execution_count": 50,
   "metadata": {},
   "outputs": [],
   "source": [
    "directories = {\n",
    "    '1': ['2207 876234', '11-2', '5455 028765'],\n",
    "    '2': ['10006', '5400 028765', '5455 002299'],\n",
    "    '3': []\n",
    "}"
   ]
  },
  {
   "cell_type": "markdown",
   "metadata": {},
   "source": [
    "Необходимо реализовать пользовательские команды (внимание! это не название функций, которые должны быть выразительными, а команды, которые вводит пользователь, чтобы получить необходимый результат):\n",
    "  \n",
    "- p – people – команда, которая спросит номер документа и выведет имя человека, которому он принадлежит;  \n",
    "- s – shelf – команда, которая спросит номер документа и выведет номер полки, на которой он находится  \n",
    "Правильно обработайте ситуацию, когда пользователь будет вводить несуществующий документ.\n",
    "- l – list – команда, которая выведет список всех документов в формате   \n",
    "**passport \"2207 876234\" \"Василий Гупкин\"**  \n",
    "- as – add shelf – команда, которая спросит номер новой полки и добавит ее в перечень\n",
    "- d – delete – команда, которая спросит номер документа и удалит его из каталога и из перечня полок. Предусмотрите сценарий, когда пользователь вводит несуществующий документ;  \n",
    "- m – move – команда, которая спросит номер документа и целевую полку и переместит его с текущей полки на целевую. Корректно обработайте кейсы, когда пользователь пытается переместить несуществующий документ или переместить документ на несуществующую \n",
    "полку;  \n",
    "- a – add – команда, которая добавит новый документ в каталог и в перечень полок, спросив его номер, тип, имя владельца и номер полки, на котором он будет храниться."
   ]
  },
  {
   "cell_type": "code",
   "execution_count": 66,
   "metadata": {},
   "outputs": [
    {
     "name": "stdout",
     "output_type": "stream",
     "text": [
      "Введите одну из команд: \n",
      " p - имя по номеру документа, \n",
      " s - номер полки по номеру документа, \n",
      " l - список всех документов, \n",
      " as - номер полки, который надо добавить, \n",
      " d - удаление документа по номеру, \n",
      " m - перемещение документа на другую полку, \n",
      " a - добавление документа\n",
      " a\n",
      "Введите номер документа: 1\n",
      "Введите тип документа: ret\n",
      "Введите имя владельца: nfnfnf\n",
      "Введите номер полки для хранения: 3\n",
      "{'1': ['2207 876234', '11-2', '5455 028765'], '2': ['10006', '5400 028765', '5455 002299'], '3': ['1']}\n",
      "[{'type': 'passport', 'number': '2207 876234', 'name': 'Василий Гупкин'}, {'type': 'invoice', 'number': '11-2', 'name': 'Геннадий Покемонов'}, {'type': 'insurance', 'number': '10006', 'name': 'Аристарх Павлов'}, {'type': 'ret', 'number': '1', 'name': 'nfnfnf'}]\n"
     ]
    }
   ],
   "source": [
    "documents = [\n",
    "    {'type': 'passport', 'number': '2207 876234', 'name': 'Василий Гупкин'},\n",
    "    {'type': 'invoice', 'number': '11-2', 'name': 'Геннадий Покемонов'},\n",
    "    {'type': 'insurance', 'number': '10006', 'name': 'Аристарх Павлов'}\n",
    "]\n",
    "directories = {\n",
    "    '1': ['2207 876234', '11-2', '5455 028765'],\n",
    "    '2': ['10006', '5400 028765', '5455 002299'],\n",
    "    '3': []\n",
    "}\n",
    "\n",
    "def name_from_doc_number():\n",
    "    doc_number = input(\"Введите номер документа: \")\n",
    "    x = 0\n",
    "    for record in documents:\n",
    "        if record['number'] == doc_number:\n",
    "            name = record['name']\n",
    "            x = 1\n",
    "    if x == 0:\n",
    "        return('Документ не найден')\n",
    "    else:\n",
    "        return(name)\n",
    "\n",
    "def shelf_from_doc_number():\n",
    "    doc_number = input(\"Введите номер документа: \")\n",
    "    x = 0\n",
    "    for key, value in directories.items():\n",
    "        for document in value:\n",
    "            if document == doc_number:\n",
    "                shelf = key\n",
    "                x = 1\n",
    "    if x == 0:\n",
    "        return('Документ не найден')\n",
    "    else:\n",
    "        return(shelf)\n",
    "    \n",
    "def print_all_doc_list():\n",
    "    for record in documents:\n",
    "        print(record['type'], ' \"', record['number'], '\" ', '\"', record['name'], '\"', sep=\"\")\n",
    "    return()\n",
    "\n",
    "def add_shelf():\n",
    "    add_shelf = input(\"Введите номер новой полки: \")\n",
    "    if add_shelf in directories:\n",
    "        return(print('Полка уже существует:'))\n",
    "    else:\n",
    "        directories[add_shelf] = []\n",
    "        return(print('Полка добавлена: '))\n",
    "    \n",
    "def remove_doc_number():\n",
    "    doc_number = input(\"Введите номер документа: \")\n",
    "    x = 0\n",
    "    for record in documents:\n",
    "        if record['number'] == doc_number:\n",
    "            i = documents.index(record)\n",
    "            del(documents[i])\n",
    "            x += 1\n",
    "    if x == 0:\n",
    "        print('Документ не найден')\n",
    "        return()\n",
    "    else:\n",
    "        for key, value in directories.items():\n",
    "            for document in value:\n",
    "                if document == doc_number:\n",
    "                    shelf = key\n",
    "                    directories[shelf].remove(doc_number)\n",
    "        print('Документ удален')\n",
    "        return()\n",
    "    \n",
    "def move_doc_number():\n",
    "    doc_number = input(\"Введите номер документа: \")\n",
    "    x = 0\n",
    "    for key, value in directories.items():\n",
    "        for document in value:\n",
    "            if document == doc_number:\n",
    "                current_shelf = key\n",
    "                x += 1\n",
    "    if x == 0:\n",
    "        print('Документ не найден')\n",
    "    else:\n",
    "        new_shelf = input(\"Введите номер полки: \")\n",
    "        if new_shelf in directories.keys():\n",
    "            #print('полка найдена')\n",
    "            print(\"Было:\", directories)\n",
    "            directories[current_shelf].remove(doc_number)\n",
    "            directories[new_shelf].append(doc_number)\n",
    "            print(\"Стало\", directories)\n",
    "        else:\n",
    "            print('Полка не найдена')\n",
    "    return()\n",
    "\n",
    "def add_new_doc():\n",
    "    doc_number = input(\"Введите номер документа: \")\n",
    "    doc_type = input(\"Введите тип документа: \")\n",
    "    doc_name = input(\"Введите имя владельца: \")\n",
    "    doc_shelf = input(\"Введите номер полки для хранения: \")\n",
    "    directories[doc_shelf].append(doc_number)\n",
    "    doc_data = {}\n",
    "    doc_data['type'] = doc_type\n",
    "    doc_data['number'] = doc_number\n",
    "    doc_data['name'] = doc_name\n",
    "    documents.append(doc_data)\n",
    "    print(directories)\n",
    "    print(documents)\n",
    "    return()\n",
    "    \n",
    "command = input(\"Введите одну из команд: \\n p - имя по номеру документа, \\n s - номер полки по номеру документа, \\n l - список всех документов, \\n as - номер полки, который надо добавить, \\n d - удаление документа по номеру, \\n m - перемещение документа на другую полку, \\n a - добавление документа\\n \")\n",
    "\n",
    "if command == 'p':\n",
    "    name = name_from_doc_number()\n",
    "    print('Владелец документа: ', name)\n",
    "elif command == 's':\n",
    "    shelf = shelf_from_doc_number()\n",
    "    print('Полка с документом: ', shelf)\n",
    "elif command == 'l':\n",
    "    list = print_all_doc_list()\n",
    "elif command == 'as':\n",
    "    add_shelf()\n",
    "    print(directories)\n",
    "elif command == 'd':\n",
    "    remove_doc_number()\n",
    "    print(documents)\n",
    "    print(directories)\n",
    "elif command == 'm':\n",
    "    move_doc_number()\n",
    "elif command == 'a':\n",
    "    add_new_doc()\n",
    "else:\n",
    "    print('такой команды нет')"
   ]
  }
 ],
 "metadata": {
  "kernelspec": {
   "display_name": "Python 3",
   "language": "python",
   "name": "python3"
  },
  "language_info": {
   "codemirror_mode": {
    "name": "ipython",
    "version": 3
   },
   "file_extension": ".py",
   "mimetype": "text/x-python",
   "name": "python",
   "nbconvert_exporter": "python",
   "pygments_lexer": "ipython3",
   "version": "3.7.4"
  }
 },
 "nbformat": 4,
 "nbformat_minor": 2
}
