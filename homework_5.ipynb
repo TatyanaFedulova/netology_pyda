{
 "cells": [
  {
   "cell_type": "markdown",
   "metadata": {},
   "source": [
    "# Домашнее задание\n",
    "1. Переведите содержимое файла purchase_log.txt в словарь purchases вида:\n",
    "```python\n",
    "{'1840e0b9d4': 'Продукты', ...}\n",
    "```\n",
    "\n",
    "2. Для каждого user_id в файле visit_log.csv определите третий столбец с категорией покупки (если покупка была, сам файл visit_log.csv изменять не надо). Запишите в файл funnel.csv визиты из файла visit_log.csv, в которых были покупки с указанием категории.\n",
    "\n",
    "Учтите условия на данные:\n",
    "- содержимое purchase_log.txt помещается в оперативную память компьютера\n",
    "- содержимое visit_log.csv - нет; используйте только построчную обработку этого файла"
   ]
  },
  {
   "cell_type": "code",
   "execution_count": 227,
   "metadata": {},
   "outputs": [
    {
     "name": "stdout",
     "output_type": "stream",
     "text": [
      "99518\n"
     ]
    }
   ],
   "source": [
    "import json\n",
    "\n",
    "purchase_log_dict = {}\n",
    "\n",
    "with open('purchase_log.txt', 'r', encoding = 'utf-8') as log_:\n",
    "    for line in log_:\n",
    "        dict = json.loads(line)\n",
    "        purchase_log_dict[dict['user_id']] = dict['category']\n",
    "\n",
    "# проверяем, сколько всего пар значений записалось в словарь\n",
    "print(len(purchase_log_dict))"
   ]
  },
  {
   "cell_type": "code",
   "execution_count": 225,
   "metadata": {},
   "outputs": [],
   "source": [
    "import json\n",
    "\n",
    "#объявляем пустой словарь, в который запишем все покупки\n",
    "purchase_dict = {}\n",
    "\n",
    "#объявляем пустой вспомогательный список - множество покупателей\n",
    "purchase_users = []\n",
    "\n",
    "#открываем файл с логом покупок в оперативную память\n",
    "purchase_log = open('purchase_log.txt', 'r', encoding = 'utf-8')\n",
    "all_purchase_log = purchase_log.readlines()\n",
    "\n",
    "for purchase in all_purchase_log:\n",
    "\n",
    "    #преобразуем каждую строчку в словарь, затем добавляем ключ-значение в словарь purchase_dict\n",
    "    purchase = json.loads(purchase.strip())\n",
    "    a = purchase['user_id']\n",
    "    b = purchase['category']\n",
    "    purchase_dict[a] = b\n",
    "    \n",
    "    #отдельно наполняем список покупателей\n",
    "    purchase_users.append(a)\n",
    "\n",
    "#объявляем файл-воронку\n",
    "with open('funnel.csv', 'w') as funnel:\n",
    "    \n",
    "    #начинаем открывать файл с логом визитов построчно\n",
    "    with open('visit_log.csv', 'r', encoding = 'utf-8') as v_:\n",
    "        for v_str in v_:\n",
    "            v_str = v_str.strip().split(',')\n",
    "           \n",
    "            #для каждой строчки ищем значение элемента с индексом [0] в списке словарей покупок\n",
    "            if v_str[0] in purchase_users:\n",
    "                \n",
    "                #объявляем пустой список для записи новой строки\n",
    "                funnel_list = []\n",
    "                \n",
    "                #если найден, тогда записыаем пользователя в переменную\n",
    "                user = v_str[0]\n",
    "                \n",
    "                #формируем строку данных: пользователь, источник, категория\n",
    "                funnel_list.append(v_str[0])\n",
    "                funnel_list.append(v_str[1])\n",
    "                funnel_list.append(purchase_dict[user])\n",
    "                \n",
    "                #записываем строку в файл\n",
    "                funnel.write(','.join(funnel_list))\n",
    "                funnel.write('\\n')\n",
    "                    \n",
    "funnel.close()"
   ]
  }
 ],
 "metadata": {
  "kernelspec": {
   "display_name": "Python 3",
   "language": "python",
   "name": "python3"
  },
  "language_info": {
   "codemirror_mode": {
    "name": "ipython",
    "version": 3
   },
   "file_extension": ".py",
   "mimetype": "text/x-python",
   "name": "python",
   "nbconvert_exporter": "python",
   "pygments_lexer": "ipython3",
   "version": "3.7.4"
  }
 },
 "nbformat": 4,
 "nbformat_minor": 2
}
