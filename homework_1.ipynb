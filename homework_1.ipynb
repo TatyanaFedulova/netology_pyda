{
 "cells": [
  {
   "cell_type": "markdown",
   "metadata": {},
   "source": [
    "**Задание 1**. Даны 2 строки: *long_phrase* и *short_phrase*. \n",
    "Напишите код, который проверяет действительно ли длинная фраза *long_phrase* длиннее короткой *short_phrase*. И выводит *True* или *False* в зависимости от результата сравнения."
   ]
  },
  {
   "cell_type": "code",
   "execution_count": 1,
   "metadata": {},
   "outputs": [],
   "source": [
    "long_phrase = 'Насколько проще было бы писать программы, если бы не заказчики'\n",
    "short_phrase = '640Кб должно хватить для любых задач. Билл Гейтс (по легенде)'"
   ]
  },
  {
   "cell_type": "code",
   "execution_count": 2,
   "metadata": {},
   "outputs": [
    {
     "name": "stdout",
     "output_type": "stream",
     "text": [
      "True\n"
     ]
    }
   ],
   "source": [
    "if len(long_phrase) > len(short_phrase):\n",
    "    print('True')\n",
    "else:\n",
    "    print('False')"
   ]
  },
  {
   "cell_type": "markdown",
   "metadata": {},
   "source": [
    "**Задание 2**. Дано значение объема файла в байтах. Напишите перевод этого значения в мегабайты в формате: \"*Объем файла равен 213.68Mb*\""
   ]
  },
  {
   "cell_type": "code",
   "execution_count": 4,
   "metadata": {},
   "outputs": [
    {
     "name": "stdout",
     "output_type": "stream",
     "text": [
      "Объем файла в байтах 100\n",
      "Объем файла равен  9.5367431640625e-05\n"
     ]
    }
   ],
   "source": [
    "Bytes=int(input('Объем файла в байтах '))\n",
    "Mb=Bytes/1024**2\n",
    "print('Объем файла равен ', Mb)"
   ]
  },
  {
   "cell_type": "markdown",
   "metadata": {},
   "source": [
    "**Задание 3**. Разработать приложение для определения знака зодиака по дате рождения. Пример:\n",
    "\n",
    "Введите месяц: март\n",
    "\n",
    "Введите число: 6\n",
    "\n",
    "Вывод:\n",
    "Рыбы"
   ]
  },
  {
   "cell_type": "code",
   "execution_count": 10,
   "metadata": {},
   "outputs": [
    {
     "name": "stdout",
     "output_type": "stream",
     "text": [
      "Введите месяц май\n",
      "Введите число 10\n",
      "телец\n",
      "введены некорректные данные\n"
     ]
    }
   ],
   "source": [
    "month = input('Введите месяц ')\n",
    "day = int(input('Введите число '))\n",
    "if (month == 'март' and day >= 21) or (month == 'апрель' and day < 21):\n",
    "    print('овен')\n",
    "if (month == 'апрель' and day >= 21) or (month == 'май' and day < 22):\n",
    "    print('телец')\n",
    "if (month == 'май' and day >= 22) or (month == 'июнь' and day < 22):\n",
    "    print('близнецы')\n",
    "if (month == 'июнь' and day >= 22) or (month == 'июль' and day < 23):\n",
    "    print('рак')\n",
    "if (month == 'июль' and day >= 21) or (month == 'август' and day < 22):\n",
    "    print('лев')\n",
    "if (month == 'август' and day >= 23) or (month == 'сентябрь' and day < 22):\n",
    "    print('дева')\n",
    "if (month == 'сентябрь' and day >= 24) or (month == 'октябрь' and day < 24):\n",
    "    print('весы')\n",
    "if (month == 'октябрь' and day >= 24) or (month == 'ноябрь' and day < 23):\n",
    "    print('скорпион')\n",
    "if (month == 'ноябрь' and day >= 23) or (month == 'декабрь' and day < 23):\n",
    "    print('стрелец')\n",
    "if (month == 'декабрь' and day >= 23) or (month == 'январь' and day < 21):\n",
    "    print('козерог')\n",
    "if (month == 'январь' and day >= 21) or (month == 'февраль' and day < 20):\n",
    "    print('водолей')\n",
    "if (month == 'февраль' and day >= 20) or (month == 'март' and day < 21):\n",
    "    print('рыбы')\n",
    "else:\n",
    "    print('введены некорректные данные')"
   ]
  },
  {
   "cell_type": "markdown",
   "metadata": {},
   "source": [
    "**Задание 4**. Нужно разработать приложение для финансового планирования.\n",
    "Приложение учитывает сколько уходит на ипотеку, \"на жизнь\" и сколько нужно отложить на пенсию.\n",
    "Пользователь вводит:\n",
    "- заработанную плату в месяц.\n",
    "- сколько процентов от ЗП уходит на ипотеку.\n",
    "- сколько процентов от ЗП уходит \"на жизнь\".\n",
    "- сколько раз приходит премия в год.\n",
    "\n",
    "Остальная часть заработанной платы откладывается на пенсию.\n",
    "\n",
    "Также пользователю приходит премия в размере зарплаты, от которой половина уходит на отпуск, а вторая половина откладывается.\n",
    "\n",
    "Программа должна учитывать сколько премий было в год.\n",
    "\n",
    "Нужно вывести сколько денег тратит пользователь на ипотеку и сколько он накопит за год.\n",
    "\n",
    "Пример:\n",
    "\n",
    "Введите заработанную плату в месяц: 100000\n",
    "\n",
    "Введите сколько процентов уходит на ипотеку: 30\n",
    "\n",
    "Введите сколько процентов уходит на жизнь: 50\n",
    "\n",
    "Введите количество премий за год: 2\n",
    "\n",
    "Вывод:\n",
    "На ипотеку было потрачено: 360000 рублей\n",
    "Было накоплено: 340000 рублей"
   ]
  },
  {
   "cell_type": "code",
   "execution_count": 12,
   "metadata": {},
   "outputs": [
    {
     "name": "stdout",
     "output_type": "stream",
     "text": [
      "Введите зарплату в месяц: 100000\n",
      "Введите сколько процентов уходит на ипотеку: 30\n",
      "Введите сколько процентов уходит на жизнь: 50\n",
      "Введите количество премий за год: 2\n",
      "На ипотеку было потрачено:  360000.0  рублей\n",
      "Было накоплено:  340000.0  рублей\n"
     ]
    }
   ],
   "source": [
    "salary = int(input('Введите зарплату в месяц: '))\n",
    "procent_ipoteka = int(input('Введите сколько процентов уходит на ипотеку: '))\n",
    "procent_life = int(input('Введите сколько процентов уходит на жизнь: '))\n",
    "bonus = int(input('Введите количество премий за год: '))\n",
    "cost_ipoteka = 12 * salary * procent_ipoteka / 100\n",
    "cost_life = 12 * salary * procent_life / 100\n",
    "cost_vacancy = bonus * salary / 2\n",
    "print(\"На ипотеку было потрачено: \",cost_ipoteka,\" рублей\")\n",
    "print(\"Было накоплено: \",salary * (12 + bonus) - cost_ipoteka - cost_life - cost_vacancy,\" рублей\")"
   ]
  }
 ],
 "metadata": {
  "kernelspec": {
   "display_name": "Python 3",
   "language": "python",
   "name": "python3"
  }
 },
 "nbformat": 4,
 "nbformat_minor": 2
}
