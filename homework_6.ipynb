{
 "cells": [
  {
   "cell_type": "markdown",
   "metadata": {},
   "source": [
    "# Задание 1\n",
    "Напишите функцию date_range, которая возвращает список дней между датами start_date и end_date. Даты должны вводиться в формате YYYY-MM-DD."
   ]
  },
  {
   "cell_type": "code",
   "execution_count": 33,
   "metadata": {},
   "outputs": [
    {
     "name": "stdout",
     "output_type": "stream",
     "text": [
      "Введите первую дату в формате YYYY-MM-DD2020-01-01\n",
      "Введите вторую дату в формате YYYY-MM-DD2020-01-20\n",
      "2020-01-01\n",
      "2020-01-02\n",
      "2020-01-03\n",
      "2020-01-04\n",
      "2020-01-05\n",
      "2020-01-06\n",
      "2020-01-07\n",
      "2020-01-08\n",
      "2020-01-09\n",
      "2020-01-10\n",
      "2020-01-11\n",
      "2020-01-12\n",
      "2020-01-13\n",
      "2020-01-14\n",
      "2020-01-15\n",
      "2020-01-16\n",
      "2020-01-17\n",
      "2020-01-18\n",
      "2020-01-19\n",
      "2020-01-20\n"
     ]
    }
   ],
   "source": [
    "from datetime import datetime\n",
    "from datetime import timedelta\n",
    "\n",
    "def date_range():\n",
    "    start_date = input('Введите первую дату в формате YYYY-MM-DD')\n",
    "    start_date = datetime.strptime(start_date, '%Y-%m-%d')\n",
    "    end_date = input('Введите вторую дату в формате YYYY-MM-DD')\n",
    "    end_date = datetime.strptime(end_date, '%Y-%m-%d')\n",
    "\n",
    "    current_date = start_date\n",
    "    while current_date <= end_date:\n",
    "        print(current_date.strftime('%Y-%m-%d'))\n",
    "        current_date += timedelta(days=1)\n",
    "    return\n",
    "\n",
    "date_range()"
   ]
  },
  {
   "cell_type": "markdown",
   "metadata": {},
   "source": [
    "# Задание 2\n",
    "Дополните функцию из первого задания проверкой на корректность дат. В случае неверного формата или если start_date > end_date должен возвращаться пустой список."
   ]
  },
  {
   "cell_type": "code",
   "execution_count": 16,
   "metadata": {},
   "outputs": [
    {
     "name": "stdout",
     "output_type": "stream",
     "text": [
      "Введите первую дату в формате YYYY-MM-DD2020-01-01\n",
      "Введите вторую дату в формате YYYY-MM-DD2020-01-10\n",
      "['2020-01-01', '2020-01-02', '2020-01-03', '2020-01-04', '2020-01-05', '2020-01-06', '2020-01-07', '2020-01-08', '2020-01-09', '2020-01-10']\n"
     ]
    }
   ],
   "source": [
    "from datetime import datetime\n",
    "from datetime import timedelta\n",
    "\n",
    "def date_range():\n",
    "    date_list = []\n",
    "    start_date = input('Введите первую дату в формате YYYY-MM-DD')\n",
    "    end_date = input('Введите вторую дату в формате YYYY-MM-DD')\n",
    "    try:\n",
    "        start_date = datetime.strptime(start_date, '%Y-%m-%d')\n",
    "        end_date = datetime.strptime(end_date, '%Y-%m-%d')\n",
    "    except ValueError:\n",
    "        print(date_list)\n",
    "        return\n",
    "    if start_date >= end_date:\n",
    "        print(date_list)\n",
    "    else:\n",
    "        current_date = start_date    \n",
    "        while current_date <= end_date:\n",
    "            date_list.append(current_date.strftime('%Y-%m-%d'))\n",
    "            current_date += timedelta(days=1)\n",
    "        print(date_list)\n",
    "    return\n",
    "\n",
    "date_range()"
   ]
  },
  {
   "cell_type": "markdown",
   "metadata": {},
   "source": [
    "# Задание 3\n",
    "Дан поток дат в формате YYYY-MM-DD, в которых встречаются некорректные значения:\n",
    "stream = ['2018-04-02', '2018-02-29', '2018-19-02']\n",
    "\n",
    "Напишите функцию, которая проверяет эти даты на корректность. Т. е. для каждой даты возвращает True (дата корректна) или False (некорректная дата)."
   ]
  },
  {
   "cell_type": "code",
   "execution_count": 20,
   "metadata": {},
   "outputs": [
    {
     "name": "stdout",
     "output_type": "stream",
     "text": [
      "{'2018-04-02': 'True', '2018-02-29': 'False', '2018-19-02': 'False'}\n"
     ]
    }
   ],
   "source": [
    "from datetime import datetime\n",
    "\n",
    "stream = ['2018-04-02', '2018-02-29', '2018-19-02']\n",
    "stream_res = {}\n",
    "\n",
    "def date_tester():\n",
    "    for date_ in stream:\n",
    "        try:\n",
    "            date_r = datetime.strptime(date_, '%Y-%m-%d')\n",
    "            stream_res[date_] = 'True'\n",
    "        except ValueError:\n",
    "            stream_res[date_] = 'False'\n",
    "        continue\n",
    "    print(stream_res)\n",
    "    return\n",
    "\n",
    "date_tester()"
   ]
  },
  {
   "cell_type": "markdown",
   "metadata": {},
   "source": [
    "# Задание 4 (бонусное)\n",
    "\n",
    "Что значит ошибка list index out of range?\n",
    "Почему при первом запуске функция работает корректно, а при втором - нет?"
   ]
  },
  {
   "cell_type": "code",
   "execution_count": 59,
   "metadata": {},
   "outputs": [
    {
     "name": "stdout",
     "output_type": "stream",
     "text": [
      "ВЫЗОВ 1\n",
      "вход ['A100', 'A101', 'A102']\n",
      "выход ['A100', 'A101']\n",
      "ВЫЗОВ 2\n",
      "вход ['A100', 'A101']\n",
      "выход ['A100']\n"
     ]
    }
   ],
   "source": [
    "DEFAULT_USER_COUNT = 3\n",
    "\n",
    "def delete_and_return_last_user(region, default_list=['A100', 'A101','A102']):\n",
    "    #напечатаем список на входе в функцию\n",
    "    print('вход', default_list)\n",
    "    element_to_delete = default_list[-1]\n",
    "    default_list.remove(element_to_delete)\n",
    "    print('выход', default_list)\n",
    "    #уберем возврат последнего элемента, чтобы прокрутить функцию 2 раза\n",
    "    return\n",
    "print('ВЫЗОВ 1')\n",
    "delete_and_return_last_user(1)\n",
    "print('ВЫЗОВ 2')\n",
    "delete_and_return_last_user(1)"
   ]
  },
  {
   "cell_type": "markdown",
   "metadata": {},
   "source": [
    "# ответ\n",
    "Оказывается, список default_list определяется только 1 раз - при объявлении функции.\n",
    "Затем при вызове функции он уже существует и сохраняет свое значение между вызовами функции.\n",
    "То есть если при первом вызове функции список был обрезан, то при втором вызове он не переопределяется. Второй вызов функции сразу получает уже укороченный список, в котором после удаления последнего элемента останется только элемент нулевой: A100. То есть в нем не будет элемента с индексом default_list[DEFAULT_USER_COUNT-2] . Отсюда ошибка list index out of range - обращение к элементу списка, которого в списке не существует."
   ]
  }
 ],
 "metadata": {
  "kernelspec": {
   "display_name": "Python 3",
   "language": "python",
   "name": "python3"
  },
  "language_info": {
   "codemirror_mode": {
    "name": "ipython",
    "version": 3
   },
   "file_extension": ".py",
   "mimetype": "text/x-python",
   "name": "python",
   "nbconvert_exporter": "python",
   "pygments_lexer": "ipython3",
   "version": "3.7.4"
  }
 },
 "nbformat": 4,
 "nbformat_minor": 2
}
